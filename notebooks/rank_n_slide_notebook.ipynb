{
 "cells": [
  {
   "cell_type": "markdown",
   "metadata": {},
   "source": [
    "# Voting Mechanism Simulation Examples"
   ]
  },
  {
   "cell_type": "markdown",
   "metadata": {},
   "source": [
    "Our goal here is to show basic use cases for the code, and do basic proof-of-concept on possible future extensions.  "
   ]
  },
  {
   "cell_type": "code",
   "execution_count": 1,
   "metadata": {},
   "outputs": [
    {
     "ename": "ModuleNotFoundError",
     "evalue": "No module named 'mechanisms'",
     "output_type": "error",
     "traceback": [
      "\u001b[0;31m---------------------------------------------------------------------------\u001b[0m",
      "\u001b[0;31mModuleNotFoundError\u001b[0m                       Traceback (most recent call last)",
      "Cell \u001b[0;32mIn[1], line 1\u001b[0m\n\u001b[0;32m----> 1\u001b[0m \u001b[38;5;28;01mfrom\u001b[39;00m \u001b[38;5;21;01mmechanisms\u001b[39;00m\u001b[38;5;21;01m.\u001b[39;00m\u001b[38;5;21;01mrank_n_slide\u001b[39;00m \u001b[38;5;28;01mimport\u001b[39;00m RankAndSlide\n",
      "\u001b[0;31mModuleNotFoundError\u001b[0m: No module named 'mechanisms'"
     ]
    }
   ],
   "source": [
    "from mechanisms.rank_n_slide import RankAndSlide"
   ]
  },
  {
   "cell_type": "markdown",
   "metadata": {},
   "source": [
    "## Inputting Sample Data as a Dictionary"
   ]
  },
  {
   "cell_type": "code",
   "execution_count": null,
   "metadata": {},
   "outputs": [],
   "source": [
    "sample_voters = {\"voter_1\":  {\"FUND_MOD4\": 1, \"BARCAMP_PARIS_23\": 1}, \n",
    "                 \"voter_2\":  {\"BARCAMP_PARIS_23\": 1},\n",
    "                 \"voter_3\":  {\"LIVE_TRACK_4\": 1},\n",
    "                 \"voter_4\":  {\"NonExistingNFT\": 1}\n",
    "                 }"
   ]
  },
  {
   "cell_type": "code",
   "execution_count": null,
   "metadata": {},
   "outputs": [],
   "source": [
    "sample_choices = {\"voter_1\": {\"candidate_A\":0.9, \"candidate_B\":0.1},\n",
    "                  \"voter_2\": {\"candidate_A\": 0.2, \"candidate_B\": 0.8},\n",
    "                  \"voter_3\": {\"candidate_B\":2, \"candidate_A\":4},    # equivalent to 0.333 & 0.666\n",
    "                  \"voter_4\": {\"candidate_B\":1} # Not every candidate needs to be voted for, they automatically have '0'\n",
    "                  }"
   ]
  },
  {
   "cell_type": "markdown",
   "metadata": {},
   "source": [
    "## Calculating Using the Weighted Plurality Method"
   ]
  },
  {
   "cell_type": "code",
   "execution_count": null,
   "metadata": {},
   "outputs": [],
   "source": [
    "method = RankAndSlide()"
   ]
  },
  {
   "cell_type": "code",
   "execution_count": null,
   "metadata": {},
   "outputs": [],
   "source": [
    "winner, candidate_scores = method.calculate(sample_voters,\n",
    "                                               sample_choices)"
   ]
  },
  {
   "cell_type": "code",
   "execution_count": null,
   "metadata": {},
   "outputs": [],
   "source": [
    "print(f\"The winner is {winner}.\")"
   ]
  },
  {
   "cell_type": "code",
   "execution_count": null,
   "metadata": {},
   "outputs": [],
   "source": [
    "print(f\"Results can be seen here: {candidate_scores}.\")"
   ]
  }
 ],
 "metadata": {
  "kernelspec": {
   "display_name": "Python 3",
   "language": "python",
   "name": "python3"
  },
  "language_info": {
   "codemirror_mode": {
    "name": "ipython",
    "version": 3
   },
   "file_extension": ".py",
   "mimetype": "text/x-python",
   "name": "python",
   "nbconvert_exporter": "python",
   "pygments_lexer": "ipython3",
   "version": "3.12.2"
  }
 },
 "nbformat": 4,
 "nbformat_minor": 2
}
