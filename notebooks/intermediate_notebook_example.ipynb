{
 "cells": [
  {
   "cell_type": "markdown",
   "metadata": {},
   "source": [
    "# Voting Mechanism Simulation Examples"
   ]
  },
  {
   "cell_type": "markdown",
   "metadata": {},
   "source": [
    "Our goal here is to show basic use cases for the code, and do basic proof-of-concept on possible future extensions.  "
   ]
  },
  {
   "cell_type": "code",
   "execution_count": null,
   "metadata": {},
   "outputs": [],
   "source": [
    "# Standard Imports\n",
    "import numpy as np\n",
    "import pandas as pd\n",
    "import os\n",
    "from random import choice\n",
    "from typing import Dict\n",
    "\n",
    "import sys\n",
    "sys.path.append('..')  # Add this line to include the directory above\n",
    "\n",
    "# Custom imports\n",
    "from custom_types import UserNFTs\n",
    "from mechanisms.single_choice_weighted_plurality import SingleChoiceWeightedPlurality"
   ]
  },
  {
   "cell_type": "code",
   "execution_count": null,
   "metadata": {},
   "outputs": [],
   "source": [
    "file_name = \"../data/nft_data_may_282024__cleaned.csv\"\n",
    "file_exists = os.path.exists(file_name)\n",
    "file_exists"
   ]
  },
  {
   "cell_type": "markdown",
   "metadata": {},
   "source": [
    "# Key Question\n",
    "\n",
    "How often would a vote that incorporates credibility-weighting by NFTs produce a different outcome than simply doing one wallet, one vote? We use the actual TE Academy NFT data as of May 28 to look at this question. "
   ]
  },
  {
   "cell_type": "markdown",
   "metadata": {},
   "source": [
    "## Inputting Sample Data as a Dictionary"
   ]
  },
  {
   "cell_type": "code",
   "execution_count": null,
   "metadata": {},
   "outputs": [],
   "source": [
    "VOTER_DATA_FILENAME = \"../data/nft_data_may_28_2024_cleaned.csv\"\n",
    "\n",
    "voter_data = pd.read_csv(VOTER_DATA_FILENAME)\n",
    "\n",
    "# We may need to drop a specific column. \n",
    "voter_data.drop(columns = ['Unnamed: 0'], \n",
    "                inplace = True)\n",
    "voter_data.set_index('ID', inplace = True)"
   ]
  },
  {
   "cell_type": "code",
   "execution_count": null,
   "metadata": {},
   "outputs": [],
   "source": [
    "sample_voters = voter_data.to_dict(orient='index')\n"
   ]
  },
  {
   "cell_type": "code",
   "execution_count": null,
   "metadata": {},
   "outputs": [],
   "source": [
    "sample_voters"
   ]
  },
  {
   "cell_type": "code",
   "execution_count": null,
   "metadata": {},
   "outputs": [],
   "source": [
    "voters = {key: UserNFTs(sample_voters.get(key))\n",
    "          for key, _ in sample_voters.items()\n",
    "          }"
   ]
  },
  {
   "cell_type": "code",
   "execution_count": null,
   "metadata": {},
   "outputs": [],
   "source": [
    "voters"
   ]
  },
  {
   "cell_type": "code",
   "execution_count": null,
   "metadata": {},
   "outputs": [],
   "source": [
    "# Get the first voter\n",
    "first_voter = list(sample_voters.values())[0]\n",
    "\n",
    "NFT_weights = {key: 1.0 \n",
    "               for key\n",
    "               in first_voter.keys()\n",
    "               }"
   ]
  },
  {
   "cell_type": "code",
   "execution_count": null,
   "metadata": {},
   "outputs": [],
   "source": [
    "def calc_voter_weights_from_NFT_weight(voters: Dict,\n",
    "                                       nft_weights: Dict) -> Dict:\n",
    "    new_dict = {}\n",
    "    for voter in voters.keys():\n",
    "        new_dict[voter] = {}\n",
    "        new_dict[voter][\"weight\"] = 0\n",
    "        for nft_name, nft_val in nft_weights.items():\n",
    "            if voters.get(voter).get(nft_name):\n",
    "                new_dict[voter][\"weight\"] += nft_val\n",
    "\n",
    "    return new_dict"
   ]
  },
  {
   "cell_type": "code",
   "execution_count": null,
   "metadata": {},
   "outputs": [],
   "source": [
    "voter_weights = calc_voter_weights_from_NFT_weight(voters,\n",
    "                                                   NFT_weights)"
   ]
  },
  {
   "cell_type": "code",
   "execution_count": null,
   "metadata": {},
   "outputs": [],
   "source": [
    "voter_weights"
   ]
  },
  {
   "cell_type": "code",
   "execution_count": null,
   "metadata": {},
   "outputs": [],
   "source": [
    "uniform_weights = {key: {\"weight\": 1.0} for key in sample_voters.keys()}"
   ]
  },
  {
   "cell_type": "code",
   "execution_count": null,
   "metadata": {},
   "outputs": [],
   "source": [
    "uniform_weights"
   ]
  },
  {
   "cell_type": "code",
   "execution_count": 14,
   "metadata": {},
   "outputs": [],
   "source": [
    "SCWPCalculator = SingleChoiceWeightedPlurality()\n",
    "\n",
    "NUM_EXPERIMENTS = 100_000\n",
    "\n",
    "# Create an empty DataFrame to store simulation results\n",
    "results_list = [] \n",
    "\n",
    "for k in range(NUM_EXPERIMENTS):\n",
    "    sample_choices = {\n",
    "                   key: choice([\"A\",\"B\",\"C\",\"D\"])\n",
    "                   for key in sample_voters.keys()\n",
    "                 }\n",
    "    weighted_winner, weighted_results  = SCWPCalculator.calculate(voter_weights,\n",
    "                            sample_choices)\n",
    "    uniform_winner, uniform_results = SCWPCalculator.calculate(uniform_weights,\n",
    "                            sample_choices)\n",
    "    # Create an empty DataFrame to store simulation results\n",
    "    results_list.append({'Experiment': k,\n",
    "                        'weighted_winner': weighted_winner, \n",
    "                        'weighted_candidate_scores': weighted_results,\n",
    "                        'uniform_winner': uniform_winner,\n",
    "                        'uniform_candidate_scores': uniform_results}\n",
    "                        )\n",
    "\n",
    "\n",
    "results_df = pd.DataFrame(results_list)\n",
    "\n",
    "#TODO: Refactor for speed if needed.  \n",
    "\n",
    "    "
   ]
  },
  {
   "cell_type": "code",
   "execution_count": null,
   "metadata": {},
   "outputs": [],
   "source": [
    "results_df"
   ]
  },
  {
   "cell_type": "code",
   "execution_count": null,
   "metadata": {},
   "outputs": [],
   "source": [
    "(results_df['weighted_winner'] == results_df['uniform_winner']).mean()"
   ]
  },
  {
   "cell_type": "code",
   "execution_count": null,
   "metadata": {},
   "outputs": [],
   "source": [
    "import mechanisms.group_hug_mechanism as GH"
   ]
  },
  {
   "cell_type": "code",
   "execution_count": null,
   "metadata": {},
   "outputs": [],
   "source": []
  }
 ],
 "metadata": {
  "kernelspec": {
   "display_name": "Python 3",
   "language": "python",
   "name": "python3"
  },
  "language_info": {
   "codemirror_mode": {
    "name": "ipython",
    "version": 3
   },
   "file_extension": ".py",
   "mimetype": "text/x-python",
   "name": "python",
   "nbconvert_exporter": "python",
   "pygments_lexer": "ipython3",
   "version": "3.11.6"
  }
 },
 "nbformat": 4,
 "nbformat_minor": 2
}
